{
 "cells": [
  {
   "cell_type": "markdown",
   "metadata": {},
   "source": [
    "<h1>Emotion Sentiment Analysis</h1>"
   ]
  },
  {
   "cell_type": "code",
   "execution_count": 1,
   "metadata": {},
   "outputs": [],
   "source": [
    "import pandas as pd\n",
    "import numpy as np"
   ]
  },
  {
   "cell_type": "code",
   "execution_count": 2,
   "metadata": {},
   "outputs": [],
   "source": [
    "df = pd.read_csv(\"datasets/master.csv\", encoding='utf-8')\n",
    "df['content']= df['content'].astype(str)\n",
    "emotion = df.emotion.unique()\n",
    "df = df.reindex(np.random.permutation(df.index))\n",
    "df.to_csv(\"datasets/master.csv\", index = False)"
   ]
  },
  {
   "cell_type": "code",
   "execution_count": 3,
   "metadata": {},
   "outputs": [
    {
     "name": "stderr",
     "output_type": "stream",
     "text": [
      "C:\\ProgramData\\Anaconda3\\lib\\site-packages\\h5py\\__init__.py:36: FutureWarning: Conversion of the second argument of issubdtype from `float` to `np.floating` is deprecated. In future, it will be treated as `np.float64 == np.dtype(float).type`.\n",
      "  from ._conv import register_converters as _register_converters\n",
      "Using TensorFlow backend.\n"
     ]
    }
   ],
   "source": [
    "from keras.preprocessing.text import Tokenizer\n",
    "from keras.preprocessing.sequence import pad_sequences\n",
    "vocabulary_size = 200000\n",
    "tokenizer = Tokenizer(num_words= 1000)\n",
    "tokenizer.fit_on_texts(df['content'])\n",
    "sequences = tokenizer.texts_to_sequences(df['content'])\n",
    "data = pad_sequences(sequences, maxlen=50)\n",
    "X = data"
   ]
  },
  {
   "cell_type": "code",
   "execution_count": 13,
   "metadata": {},
   "outputs": [],
   "source": [
    "import pandas as pd\n",
    "import numpy as np\n",
    "flag = pd.Series(list(df['emotion']))\n",
    "Y = pd.get_dummies(flag)\n",
    "Y = np.array(Y)"
   ]
  },
  {
   "cell_type": "markdown",
   "metadata": {},
   "source": [
    "<h1>Using word embeddings to create a LSTM classification model</h1>"
   ]
  },
  {
   "cell_type": "code",
   "execution_count": 14,
   "metadata": {},
   "outputs": [],
   "source": [
    "from keras.models import Model\n",
    "from keras.layers import LSTM, Activation, Dense, Dropout, Input, Embedding\n",
    "from keras.optimizers import RMSprop\n",
    "from keras.preprocessing.text import Tokenizer\n",
    "from keras.preprocessing import sequence\n",
    "from keras.utils import to_categorical"
   ]
  },
  {
   "cell_type": "code",
   "execution_count": 15,
   "metadata": {},
   "outputs": [
    {
     "name": "stdout",
     "output_type": "stream",
     "text": [
      "_________________________________________________________________\n",
      "Layer (type)                 Output Shape              Param #   \n",
      "=================================================================\n",
      "input_1 (InputLayer)         (None, 50)                0         \n",
      "_________________________________________________________________\n",
      "embedding_1 (Embedding)      (None, 50, 500)           50000000  \n",
      "_________________________________________________________________\n",
      "lstm_1 (LSTM)                (None, 1000)              6004000   \n",
      "_________________________________________________________________\n",
      "dense_1 (Dense)              (None, 256)               256256    \n",
      "_________________________________________________________________\n",
      "activation_1 (Activation)    (None, 256)               0         \n",
      "_________________________________________________________________\n",
      "dropout_1 (Dropout)          (None, 256)               0         \n",
      "_________________________________________________________________\n",
      "dense_2 (Dense)              (None, 9)                 2313      \n",
      "_________________________________________________________________\n",
      "activation_2 (Activation)    (None, 9)                 0         \n",
      "=================================================================\n",
      "Total params: 56,262,569\n",
      "Trainable params: 56,262,569\n",
      "Non-trainable params: 0\n",
      "_________________________________________________________________\n",
      "Train on 136848 samples, validate on 205272 samples\n",
      "Epoch 1/2\n",
      "136848/136848 [==============================] - 154s 1ms/step - loss: 0.5840 - acc: 0.7945 - val_loss: 0.2749 - val_acc: 0.9022\n",
      "Epoch 2/2\n",
      "136848/136848 [==============================] - 148s 1ms/step - loss: 0.2636 - acc: 0.9053 - val_loss: 0.2561 - val_acc: 0.9066\n"
     ]
    },
    {
     "data": {
      "text/plain": [
       "<keras.callbacks.History at 0x18f7df39cf8>"
      ]
     },
     "execution_count": 15,
     "metadata": {},
     "output_type": "execute_result"
    }
   ],
   "source": [
    "X = X.reshape(len(X), 50)\n",
    "inputs = Input(shape=[50])\n",
    "layer = Embedding(100000,500,input_length=50)(inputs)\n",
    "layer = LSTM(1000)(layer)\n",
    "layer = Dense(256)(layer)\n",
    "layer = Activation('relu')(layer)\n",
    "layer = Dropout(0.5)(layer)\n",
    "layer = Dense(9)(layer)\n",
    "layer = Activation('softmax')(layer)\n",
    "model = Model(inputs=inputs,outputs=layer)\n",
    "model.summary()\n",
    "model.compile(loss='categorical_crossentropy',optimizer=\"adam\",metrics=['accuracy'])\n",
    "model.fit(X,Y,batch_size=256,epochs=2,\n",
    "          validation_split=0.6, shuffle=True)"
   ]
  },
  {
   "cell_type": "code",
   "execution_count": 16,
   "metadata": {},
   "outputs": [],
   "source": [
    "model.save(\"master_model.h5\")"
   ]
  },
  {
   "cell_type": "markdown",
   "metadata": {},
   "source": [
    "<h1>Prediction</h1>"
   ]
  },
  {
   "cell_type": "code",
   "execution_count": 4,
   "metadata": {},
   "outputs": [],
   "source": [
    "from keras.models import load_model\n",
    "model = load_model('master_model.h5')\n",
    "statement = \"How is your country\"\n",
    "sequences = tokenizer.texts_to_sequences(statement)\n",
    "data = pad_sequences(sequences, maxlen=50)\n",
    "y = model.predict(data)"
   ]
  },
  {
   "cell_type": "code",
   "execution_count": 15,
   "metadata": {},
   "outputs": [
    {
     "name": "stdout",
     "output_type": "stream",
     "text": [
      "fear\n"
     ]
    }
   ],
   "source": [
    "argument = np.argmax(y[18], axis=0)\n",
    "print(emotion[argument])"
   ]
  },
  {
   "cell_type": "code",
   "execution_count": null,
   "metadata": {},
   "outputs": [],
   "source": []
  }
 ],
 "metadata": {
  "kernelspec": {
   "display_name": "Python 3",
   "language": "python",
   "name": "python3"
  },
  "language_info": {
   "codemirror_mode": {
    "name": "ipython",
    "version": 3
   },
   "file_extension": ".py",
   "mimetype": "text/x-python",
   "name": "python",
   "nbconvert_exporter": "python",
   "pygments_lexer": "ipython3",
   "version": "3.6.5"
  }
 },
 "nbformat": 4,
 "nbformat_minor": 2
}
