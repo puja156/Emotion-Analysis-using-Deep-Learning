
  {
   "cell_type": "code",
   "execution_count": null,
   "metadata": {
    "colab": {},
    "colab_type": "code",
    "id": "AXx3PJ8V1ApB"
   },
   "outputs": [],
   "source": [
    "import pandas as pd\n",
    "import numpy as np\n",
    "import matplotlib.pyplot as plt\n",
    "import seaborn as sns\n",
    "from prettytable import PrettyTable\n",
    "from keras.preprocessing.text import Tokenizer\n",
    "from keras.preprocessing.sequence import pad_sequences\n",
    "from sklearn.model_selection import train_test_split"
   ]
  },
  {
   "cell_type": "code",
   "execution_count": null,
   "metadata": {
    "colab": {},
    "colab_type": "code",
    "id": "RzRBty-V9TEI"
   },
   "outputs": [],
   "source": [
    "base = 'drive/My Drive/'"
   ]
  },
  {
   "cell_type": "code",
   "execution_count": 3,
   "metadata": {
    "colab": {
     "base_uri": "https://localhost:8080/",
     "height": 122
    },
    "colab_type": "code",
    "id": "qM-Jew9z1rUa",
    "outputId": "846df58a-093c-4dcc-e7c5-a18e272d4762"
   },
   "outputs": [
    {
     "name": "stdout",
     "output_type": "stream",
     "text": [
      "Go to this URL in a browser: https://accounts.google.com/o/oauth2/auth?client_id=947318989803-6bn6qk8qdgf4n4g3pfee6491hc0brc4i.apps.googleusercontent.com&redirect_uri=urn%3Aietf%3Awg%3Aoauth%3A2.0%3Aoob&scope=email%20https%3A%2F%2Fwww.googleapis.com%2Fauth%2Fdocs.test%20https%3A%2F%2Fwww.googleapis.com%2Fauth%2Fdrive%20https%3A%2F%2Fwww.googleapis.com%2Fauth%2Fdrive.photos.readonly%20https%3A%2F%2Fwww.googleapis.com%2Fauth%2Fpeopleapi.readonly&response_type=code\n",
      "\n",
      "Enter your authorization code:\n",
      "··········\n",
      "Mounted at /content/drive\n"
     ]
    }
   ],
   "source": [
    "from google.colab import drive\n",
    "drive.mount('/content/drive')"
   ]
  },
  {
   "cell_type": "code",
   "execution_count": null,
   "metadata": {
    "colab": {},
    "colab_type": "code",
    "id": "rX2fYODZ1HIM"
   },
   "outputs": [],
   "source": [
    "df = pd.read_csv(base + \"master.csv\", encoding='utf-8')\n",
    "df = df.reindex(np.random.permutation(df.index))\n",
    "df['content'] = df['content'].astype(str)"
   ]
  },
  {
   "cell_type": "code",
   "execution_count": null,
   "metadata": {
    "colab": {},
    "colab_type": "code",
    "id": "ZbcsHZJz10Ej"
   },
   "outputs": [],
   "source": [
    "vocabulary_size = 200000\n",
    "tokenizer = Tokenizer(num_words= 1000)\n",
    "tokenizer.fit_on_texts(df['content'])"
   ]
  },
  {
   "cell_type": "code",
   "execution_count": null,
   "metadata": {
    "colab": {},
    "colab_type": "code",
    "id": "vPRgmMNH12so"
   },
   "outputs": [],
   "source": [
    "word2index = tokenizer.word_index\n",
    "index2word = {i:j for i, j in enumerate(word2index)}"
   ]
  },
  {
   "cell_type": "code",
   "execution_count": 7,
   "metadata": {
    "colab": {
     "base_uri": "https://localhost:8080/",
     "height": 204
    },
    "colab_type": "code",
    "id": "eaZxeSSa13pV",
    "outputId": "248fc69c-9da6-4cca-d6af-7e11e974de4d"
   },
   "outputs": [
    {
     "data": {
      "text/html": [
       "<div>\n",
       "<style scoped>\n",
       "    .dataframe tbody tr th:only-of-type {\n",
       "        vertical-align: middle;\n",
       "    }\n",
       "\n",
       "    .dataframe tbody tr th {\n",
       "        vertical-align: top;\n",
       "    }\n",
       "\n",
       "    .dataframe thead th {\n",
       "        text-align: right;\n",
       "    }\n",
       "</style>\n",
       "<table border=\"1\" class=\"dataframe\">\n",
       "  <thead>\n",
       "    <tr style=\"text-align: right;\">\n",
       "      <th></th>\n",
       "      <th>emotion</th>\n",
       "      <th>content</th>\n",
       "    </tr>\n",
       "  </thead>\n",
       "  <tbody>\n",
       "    <tr>\n",
       "      <th>92515</th>\n",
       "      <td>sad</td>\n",
       "      <td>i feel the air force has victimized me by forc...</td>\n",
       "    </tr>\n",
       "    <tr>\n",
       "      <th>104110</th>\n",
       "      <td>love</td>\n",
       "      <td>i was concerned i would run back to the flat s...</td>\n",
       "    </tr>\n",
       "    <tr>\n",
       "      <th>193670</th>\n",
       "      <td>fear</td>\n",
       "      <td>i feel totally terrified</td>\n",
       "    </tr>\n",
       "    <tr>\n",
       "      <th>248850</th>\n",
       "      <td>joy</td>\n",
       "      <td>i feel like its vital that my son know and und...</td>\n",
       "    </tr>\n",
       "    <tr>\n",
       "      <th>271735</th>\n",
       "      <td>joy</td>\n",
       "      <td>i feel very content and settled down</td>\n",
       "    </tr>\n",
       "  </tbody>\n",
       "</table>\n",
       "</div>"
      ],
      "text/plain": [
       "       emotion                                            content\n",
       "92515      sad  i feel the air force has victimized me by forc...\n",
       "104110    love  i was concerned i would run back to the flat s...\n",
       "193670    fear                           i feel totally terrified\n",
       "248850     joy  i feel like its vital that my son know and und...\n",
       "271735     joy               i feel very content and settled down"
      ]
     },
     "execution_count": 7,
     "metadata": {
      "tags": []
     },
     "output_type": "execute_result"
    }
   ],
   "source": [
    "df.head()"
   ]
  },
  {
   "cell_type": "code",
   "execution_count": 7,
   "metadata": {
    "colab": {
     "base_uri": "https://localhost:8080/",
     "height": 269
    },
    "colab_type": "code",
    "id": "2zMR3ZFd14h_",
    "outputId": "6827334c-5976-4ec0-fece-0baa853ba35b"
   },
   "outputs": [
    {
     "data": {
      "image/png": "iVBORw0KGgoAAAANSUhEUgAAAY0AAAD8CAYAAACLrvgBAAAABHNCSVQICAgIfAhkiAAAAAlwSFlz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\nkuWRyAAAAABJRU5ErkJggg==\n",
      "text/plain": [
       "<Figure size 432x288 with 1 Axes>"
      ]
     },
     "metadata": {
      "tags": []
     },
     "output_type": "display_data"
    }
   ],
   "source": [
    "emotions = df.emotion.unique()\n",
    "sum_categorical_emotions = [df[df.emotion == i].size for i in emotions]\n",
    "plt.bar(emotions, sum_categorical_emotions)\n",
    "plt.show()"
   ]
  },
  {
   "cell_type": "markdown",
   "metadata": {
    "colab_type": "text",
    "id": "ItQI992Q4sp5"
   },
   "source": [
    "<h4>The basic human emotion classes can be as follows</h4>\n",
    "<ul>\n",
    "<li>Happiness\n",
    "<li>Sadness\n",
    "<li>Fear\n",
    "<li>Disgust\n",
    "<li>Anger\n",
    "<li>Surprise\n",
    "</ul>"
   ]
  },
  {
   "cell_type": "code",
   "execution_count": 8,
   "metadata": {
    "colab": {
     "base_uri": "https://localhost:8080/",
     "height": 51
    },
    "colab_type": "code",
    "id": "Ge2VnR0-16jp",
    "outputId": "47d526ca-8c31-452b-9cb1-1c620f179a5f"
   },
   "outputs": [
    {
     "data": {
      "text/plain": [
       "array(['sad', 'happiness', 'fear', 'anger', 'surprise', 'disgust'],\n",
       "      dtype=object)"
      ]
     },
     "execution_count": 8,
     "metadata": {
      "tags": []
     },
     "output_type": "execute_result"
    }
   ],
   "source": [
    "df.loc[df.emotion == 'guilt', 'emotion'] = 'disgust'\n",
    "df.loc[df.emotion == 'disgust', 'emotion'] = 'disgust'\n",
    "df.loc[df.emotion == 'shame', 'emotion'] = 'disgust'\n",
    "df.loc[df.emotion == 'joy', 'emotion'] = 'happiness'\n",
    "df.loc[df.emotion == 'love', 'emotion'] = 'happiness'\n",
    "df.emotion.unique()"
   ]
  },
  {
   "cell_type": "code",
   "execution_count": 10,
   "metadata": {
    "colab": {
     "base_uri": "https://localhost:8080/",
     "height": 286
    },
    "colab_type": "code",
    "id": "kXP9ZZ3p171f",
    "outputId": "c62099f0-1df9-427d-e467-b74fc6517b47"
   },
   "outputs": [
    {
     "name": "stdout",
     "output_type": "stream",
     "text": [
      "[206492, 279482, 69616, 94636, 25300, 8714]\n"
     ]
    },
    {
     "data": {
      "image/png": "iVBORw0KGgoAAAANSUhEUgAAAY0AAAD8CAYAAACLrvgBAAAABHNCSVQICAgIfAhkiAAAAAlwSFlz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\nzdCQJHUzNCRJ3QwNSVI3Q0OS1O3/Ad/K0unSva6JAAAAAElFTkSuQmCC\n",
      "text/plain": [
       "<Figure size 432x288 with 1 Axes>"
      ]
     },
     "metadata": {
      "tags": []
     },
     "output_type": "display_data"
    }
   ],
   "source": [
    "emotions = df.emotion.unique()\n",
    "sum_categorical_emotions = [df[df.emotion == i].size for i in emotions]\n",
    "print(sum_categorical_emotions)\n",
    "plt.bar(emotions, sum_categorical_emotions)\n",
    "plt.show()"
   ]
  },
  {
   "cell_type": "markdown",
   "metadata": {
    "colab_type": "text",
    "id": "PcRmaCaE4ySl"
   },
   "source": [
    "<h1>Using word embeddings to create a LSTM classification model</h1>"
   ]
  },
  {
   "cell_type": "code",
   "execution_count": null,
   "metadata": {
    "colab": {},
    "colab_type": "code",
    "id": "keiVLgFD19fd"
   },
   "outputs": [],
   "source": [
    "from keras.models import Model\n",
    "from keras.layers import LSTM, Activation, Dense, Dropout, Input, Embedding\n",
    "from keras.optimizers import RMSprop\n",
    "from keras.preprocessing.text import Tokenizer\n",
    "from keras.preprocessing import sequence\n",
    "from keras.utils import to_categorical"
   ]
  },
  {
   "cell_type": "code",
   "execution_count": 13,
   "metadata": {
    "colab": {
     "base_uri": "https://localhost:8080/",
     "height": 85
    },
    "colab_type": "code",
    "id": "ppYSXM8Y1-gC",
    "outputId": "0d4bc78f-3981-4c1c-908a-afd4b97838a6"
   },
   "outputs": [
    {
     "data": {
      "text/plain": [
       "array([  0,   0,   0,   0,   0,   0,   0,   0,   0,   0,   0,   0,   0,\n",
       "         0,   0,   0,   0,   0,   0,   0,   0,   0,   0,   0,   0,   0,\n",
       "         0,   0,   0,   0,   0,   0,   0,   0,   0,   0,   0,   0,   1,\n",
       "        25,  26, 196,   5, 782,  54,   1,   3, 650,  35, 287], dtype=int32)"
      ]
     },
     "execution_count": 13,
     "metadata": {
      "tags": []
     },
     "output_type": "execute_result"
    }
   ],
   "source": [
    "sequences = tokenizer.texts_to_sequences(df['content'])\n",
    "data = pad_sequences(sequences, maxlen=50)\n",
    "X = data.reshape(len(data), 50)\n",
    "X[100]"
   ]
  },
  {
   "cell_type": "code",
   "execution_count": 14,
   "metadata": {
    "colab": {
     "base_uri": "https://localhost:8080/",
     "height": 34
    },
    "colab_type": "code",
    "id": "4ZEhO-nI1_1N",
    "outputId": "4dbb92ba-93b6-4d09-ce94-c21ba0fefa95"
   },
   "outputs": [
    {
     "data": {
      "text/plain": [
       "array([0, 0, 1, 0, 0, 0], dtype=uint8)"
      ]
     },
     "execution_count": 14,
     "metadata": {
      "tags": []
     },
     "output_type": "execute_result"
    }
   ],
   "source": [
    "flag = pd.Series(list(df['emotion']))\n",
    "Y = pd.get_dummies(flag)\n",
    "Y = np.array(Y)\n",
    "Y[100]"
   ]
  },
  {
   "cell_type": "code",
   "execution_count": null,
   "metadata": {
    "colab": {},
    "colab_type": "code",
    "id": "5bR2VHn73MUP"
   },
   "outputs": [],
   "source": [
    "X_train, X_test, y_train, y_test = train_test_split(X, Y, test_size=0.33, random_state=42)"
   ]
  },
  {
   "cell_type": "code",
   "execution_count": 16,
   "metadata": {
    "colab": {
     "base_uri": "https://localhost:8080/",
     "height": 530
    },
    "colab_type": "code",
    "id": "ig0MIPYs2A4Q",
    "outputId": "209de0e3-9132-49c6-89fc-b07385a8227d"
   },
   "outputs": [
    {
     "name": "stdout",
     "output_type": "stream",
     "text": [
      "WARNING:tensorflow:From /usr/local/lib/python3.6/dist-packages/tensorflow/python/framework/op_def_library.py:263: colocate_with (from tensorflow.python.framework.ops) is deprecated and will be removed in a future version.\n",
      "Instructions for updating:\n",
      "Colocations handled automatically by placer.\n",
      "WARNING:tensorflow:From /usr/local/lib/python3.6/dist-packages/keras/backend/tensorflow_backend.py:3445: calling dropout (from tensorflow.python.ops.nn_ops) with keep_prob is deprecated and will be removed in a future version.\n",
      "Instructions for updating:\n",
      "Please use `rate` instead of `keep_prob`. Rate should be set to `rate = 1 - keep_prob`.\n",
      "_________________________________________________________________\n",
      "Layer (type)                 Output Shape              Param #   \n",
      "=================================================================\n",
      "input_1 (InputLayer)         (None, 50)                0         \n",
      "_________________________________________________________________\n",
      "embedding_1 (Embedding)      (None, 50, 500)           50000000  \n",
      "_________________________________________________________________\n",
      "lstm_1 (LSTM)                (None, 512)               2074624   \n",
      "_________________________________________________________________\n",
      "dense_1 (Dense)              (None, 256)               131328    \n",
      "_________________________________________________________________\n",
      "activation_1 (Activation)    (None, 256)               0         \n",
      "_________________________________________________________________\n",
      "dropout_1 (Dropout)          (None, 256)               0         \n",
      "_________________________________________________________________\n",
      "dense_2 (Dense)              (None, 6)                 1542      \n",
      "_________________________________________________________________\n",
      "activation_2 (Activation)    (None, 6)                 0         \n",
      "=================================================================\n",
      "Total params: 52,207,494\n",
      "Trainable params: 52,207,494\n",
      "Non-trainable params: 0\n",
      "_________________________________________________________________\n"
     ]
    }
   ],
   "source": [
    "inputs = Input(shape=[50])\n",
    "layer = Embedding(100000, 500, input_length=50)(inputs)\n",
    "layer = LSTM(512)(layer)\n",
    "layer = Dense(256)(layer)\n",
    "layer = Activation('relu')(layer)\n",
    "layer = Dropout(0.5)(layer)\n",
    "layer = Dense(6)(layer)\n",
    "layer = Activation('softmax')(layer)\n",
    "model = Model(inputs=inputs,outputs=layer)\n",
    "model.summary()\n",
    "model.compile(loss='categorical_crossentropy',optimizer=\"adam\",metrics=['accuracy'])"
   ]
  },
  {
   "cell_type": "code",
   "execution_count": 18,
   "metadata": {
    "colab": {
     "base_uri": "https://localhost:8080/",
     "height": 462
    },
    "colab_type": "code",
    "id": "23gyLQMW2B5A",
    "outputId": "57da826f-181d-4d8f-ec0e-9adadb25ae4b"
   },
   "outputs": [
    {
     "name": "stdout",
     "output_type": "stream",
     "text": [
      "WARNING:tensorflow:From /usr/local/lib/python3.6/dist-packages/tensorflow/python/ops/math_ops.py:3066: to_int32 (from tensorflow.python.ops.math_ops) is deprecated and will be removed in a future version.\n",
      "Instructions for updating:\n",
      "Use tf.cast instead.\n",
      "Train on 229220 samples, validate on 112900 samples\n",
      "Epoch 1/10\n",
      "229220/229220 [==============================] - 142s 619us/step - loss: 0.3736 - acc: 0.8635 - val_loss: 0.2221 - val_acc: 0.9184\n",
      "Epoch 2/10\n",
      "229220/229220 [==============================] - 141s 615us/step - loss: 0.2177 - acc: 0.9200 - val_loss: 0.2142 - val_acc: 0.9189\n",
      "Epoch 3/10\n",
      "229220/229220 [==============================] - 143s 622us/step - loss: 0.2079 - acc: 0.9225 - val_loss: 0.2094 - val_acc: 0.9217\n",
      "Epoch 4/10\n",
      "229220/229220 [==============================] - 142s 621us/step - loss: 0.1991 - acc: 0.9248 - val_loss: 0.2066 - val_acc: 0.9226\n",
      "Epoch 5/10\n",
      "229220/229220 [==============================] - 142s 622us/step - loss: 0.1912 - acc: 0.9273 - val_loss: 0.2056 - val_acc: 0.9232\n",
      "Epoch 6/10\n",
      "229220/229220 [==============================] - 142s 621us/step - loss: 0.1814 - acc: 0.9300 - val_loss: 0.2041 - val_acc: 0.9249\n",
      "Epoch 7/10\n",
      "229220/229220 [==============================] - 143s 622us/step - loss: 0.1719 - acc: 0.9335 - val_loss: 0.2051 - val_acc: 0.9262\n",
      "Epoch 8/10\n",
      "229220/229220 [==============================] - 142s 621us/step - loss: 0.1619 - acc: 0.9374 - val_loss: 0.2110 - val_acc: 0.9269\n",
      "Epoch 9/10\n",
      "229220/229220 [==============================] - 142s 620us/step - loss: 0.1492 - acc: 0.9412 - val_loss: 0.2142 - val_acc: 0.9273\n",
      "Epoch 10/10\n",
      "229220/229220 [==============================] - 142s 621us/step - loss: 0.1346 - acc: 0.9465 - val_loss: 0.2304 - val_acc: 0.9273\n"
     ]
    },
    {
     "data": {
      "text/plain": [
       "<keras.callbacks.History at 0x7f53e6f8ca90>"
      ]
     },
     "execution_count": 18,
     "metadata": {
      "tags": []
     },
     "output_type": "execute_result"
    }
   ],
   "source": [
    "model.fit(X_train, y_train, batch_size=256, epochs=10, validation_data=(X_test, y_test), shuffle=True)"
   ]
  },
  {
   "cell_type": "code",
   "execution_count": null,
   "metadata": {
    "colab": {},
    "colab_type": "code",
    "id": "iBrjmdxf81zt"
   },
   "outputs": [],
   "source": [
    "model.save('master_model.h5')"
   ]
  },
  {
   "cell_type": "markdown",
   "metadata": {
    "colab_type": "text",
    "id": "IbEbNFi241Lj"
   },
   "source": [
    "<h1>Prediction and Evaluation</h1>"
   ]
  },
  {
   "cell_type": "code",
   "execution_count": null,
   "metadata": {
    "colab": {},
    "colab_type": "code",
    "id": "qYuR_rQh2ERB"
   },
   "outputs": [],
   "source": [
    "from keras.models import load_model\n",
    "model = load_model('master_model.h5')"
   ]
  },
  {
   "cell_type": "code",
   "execution_count": 65,
   "metadata": {
    "colab": {
     "base_uri": "https://localhost:8080/",
     "height": 34
    },
    "colab_type": "code",
    "id": "w67Mgis0423a",
    "outputId": "72a763f5-93df-4c51-c4cb-9789df10b995"
   },
   "outputs": [
    {
     "name": "stdout",
     "output_type": "stream",
     "text": [
      "anger\n"
     ]
    }
   ],
   "source": [
    "statement = \"The mother gave birth to a baby.\"\n",
    "sequences = tokenizer.texts_to_sequences([statement])\n",
    "data = pad_sequences(sequences, maxlen=50)\n",
    "emotion = df.emotion.unique()\n",
    "y = model.predict(data)\n",
    "y = np.argmax(y)\n",
    "print(emotion[y])"
   ]
  },
  {
   "cell_type": "code",
   "execution_count": null,
   "metadata": {
    "colab": {},
    "colab_type": "code",
    "id": "wp-tmc2kBKyy"
   },
   "outputs": [],
   "source": [
    "y_predict = model.predict(X_test)"
   ]
  },
  {
   "cell_type": "code",
   "execution_count": null,
   "metadata": {
    "colab": {},
    "colab_type": "code",
    "id": "aKCk4Xl_Dl2h"
   },
   "outputs": [],
   "source": [
    "from sklearn.metrics import confusion_matrix\n",
    "predict = np.argmax(y_predict, axis = 1)\n",
    "y_test_class = np.argmax(y_test, axis = 1)\n",
    "cm = confusion_matrix(predict, y_test_class)"
   ]
  },
  {
   "cell_type": "code",
   "execution_count": 112,
   "metadata": {
    "colab": {
     "base_uri": "https://localhost:8080/",
     "height": 783
    },
    "colab_type": "code",
    "id": "ZCp726d1IXfN",
    "outputId": "784f42ef-d89f-4c46-f8cf-39e63e0ebc92"
   },
   "outputs": [
    {
     "data": {
      "text/plain": [
       "[Text(0, 0.5, 'sad'),\n",
       " Text(0, 1.5, 'happiness'),\n",
       " Text(0, 2.5, 'fear'),\n",
       " Text(0, 3.5, 'anger'),\n",
       " Text(0, 4.5, 'surprise'),\n",
       " Text(0, 5.5, 'disgust')]"
      ]
     },
     "execution_count": 112,
     "metadata": {
      "tags": []
     },
     "output_type": "execute_result"
    },
    {
     "data": {
      "image/png": "iVBORw0KGgoAAAANSUhEUgAAAxUAAAKYCAYAAAAFRNW4AAAABHNCSVQICAgIfAhkiAAAAAlwSFlz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\npAAAAABJRU5ErkJggg==\n",
      "text/plain": [
       "<Figure size 1008x792 with 2 Axes>"
      ]
     },
     "metadata": {
      "tags": []
     },
     "output_type": "display_data"
    }
   ],
   "source": [
    "ax = plt.subplot()\n",
    "sns.heatmap(cm, annot = True, ax = ax)\n",
    "sns.set(rc={'figure.figsize':(15, 11)})\n",
    "ax.set_xlabel('Predicted labels')\n",
    "ax.set_ylabel('True labels')\n",
    "ax.set_title('Confusion Matrix')\n",
    "ax.xaxis.set_ticklabels(emotion)\n",
    "ax.yaxis.set_ticklabels(emotion)"
   ]
  },
  {
   "cell_type": "code",
   "execution_count": 120,
   "metadata": {
    "colab": {
     "base_uri": "https://localhost:8080/",
     "height": 102
    },
    "colab_type": "code",
    "id": "ZkLrKAWvKmV6",
    "outputId": "9ce7dd96-9ea3-4b99-d9f2-807a76c84d8f"
   },
   "outputs": [
    {
     "name": "stdout",
     "output_type": "stream",
     "text": [
      "precision: [0.9215317  0.58842618 0.91300018 0.93687499 0.93662347 0.94989211]\n",
      "recall: [0.84768382 0.74266212 0.87551003 0.96637329 0.93471521 0.93886256]\n",
      "fscore: [0.88306654 0.65660833 0.89386218 0.95139554 0.93566837 0.94434513]\n",
      "support: [15586  1465 11519 46243 33867  4220]\n",
      "emotion: ['sad' 'happiness' 'fear' 'anger' 'surprise' 'disgust']\n"
     ]
    }
   ],
   "source": [
    "from sklearn.metrics import precision_recall_fscore_support as score\n",
    "precision, recall, fscore, support = score(y_test_class, predict)\n",
    "print('precision: {}'.format(precision))\n",
    "print('recall: {}'.format(recall))\n",
    "print('fscore: {}'.format(fscore))\n",
    "print('support: {}'.format(support))\n",
    "print('emotion: {}'.format(emotions))"
   ]
  },
  {
   "cell_type": "code",
   "execution_count": 122,
   "metadata": {
    "colab": {
     "base_uri": "https://localhost:8080/",
     "height": 187
    },
    "colab_type": "code",
    "id": "wDPAF190P2bh",
    "outputId": "02ff3fa6-8429-4372-bf77-e351423cb675"
   },
   "outputs": [
    {
     "name": "stdout",
     "output_type": "stream",
     "text": [
      "+-----------+--------------------+--------------------+--------------------+---------+\n",
      "|  Emotion  |     Precision      |       Recall       |      F-score       | Support |\n",
      "+-----------+--------------------+--------------------+--------------------+---------+\n",
      "|    sad    | 0.9215317011927181 | 0.8476838188117541 | 0.8830665374461116 |  15586  |\n",
      "| happiness | 0.5884261763115197 | 0.7426621160409557 | 0.6566083283041642 |   1465  |\n",
      "|    fear   | 0.9130001810610175 | 0.8755100269120584 | 0.8938621759361844 |  11519  |\n",
      "|   anger   | 0.9368749868969999 | 0.9663732889302165 | 0.9513955419301271 |  46243  |\n",
      "|  surprise | 0.9366234688443104 | 0.9347152094959695 | 0.9356683662159166 |  33867  |\n",
      "|  disgust  | 0.9498921122033086 | 0.9388625592417061 | 0.9443451316887141 |   4220  |\n",
      "+-----------+--------------------+--------------------+--------------------+---------+\n"
     ]
    }
   ],
   "source": [
    "score_table = PrettyTable(['Emotion', 'Precision', 'Recall', 'F-score', 'Support'])\n",
    "for i in range(0, len(emotion)):\n",
    "    score_table.add_row([emotions[i], precision[i], recall[i], fscore[i], support[i]])\n",
    "print(score_table)"
   ]
  },
  {
   "cell_type": "code",
   "execution_count": null,
   "metadata": {
    "colab": {},
    "colab_type": "code",
    "id": "oh01KQeARUZW"
   },
   "outputs": [],
   "source": []
  }
 ],
 "metadata": {
  "accelerator": "GPU",
  "colab": {
   "collapsed_sections": [],
   "name": "main.ipynb",
   "provenance": [],
   "version": "0.3.2"
  },
  "kernelspec": {
   "display_name": "Python 3",
   "language": "python",
   "name": "python3"
  },
  "language_info": {
   "codemirror_mode": {
    "name": "ipython",
    "version": 3
   },
   "file_extension": ".py",
   "mimetype": "text/x-python",
   "name": "python",
   "nbconvert_exporter": "python",
   "pygments_lexer": "ipython3",
   "version": "3.7.3"
  }
 },
 "nbformat": 4,
 "nbformat_minor": 2
}
